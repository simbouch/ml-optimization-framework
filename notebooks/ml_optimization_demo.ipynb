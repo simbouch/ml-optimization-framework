{
 "cells": [
  {
   "cell_type": "markdown",
   "metadata": {},
   "source": [
    "# ML Optimization Framework with Optuna\n",
    "\n",
    "## Comprehensive Analysis and Demonstration\n",
    "\n",
    "This notebook demonstrates the complete workflow of the ML optimization framework, including:\n",
    "\n",
    "1. **Data Pipeline Setup** - Loading and preprocessing the Adult Income dataset\n",
    "2. **Model Optimization** - Hyperparameter tuning for multiple ML models\n",
    "3. **Advanced Features** - Multi-objective optimization, sampler comparison\n",
    "4. **Visualization & Analysis** - Comprehensive result analysis and plotting\n",
    "5. **Performance Comparison** - Model comparison and insights\n",
    "\n",
    "---"
   ]
  },
  {
   "cell_type": "markdown",
   "metadata": {},
   "source": [
    "## 1. Setup and Imports\n",
    "\n",
    "First, let's import all necessary libraries and set up our environment."
   ]
  },
  {
   "cell_type": "code",
   "execution_count": null,
   "metadata": {},
   "outputs": [],
   "source": [
    "# Standard library imports\n",
    "import sys\n",
    "import os\n",
    "import warnings\n",
    "import time\n",
    "from pathlib import Path\n",
    "\n",
    "# Add src to path\n",
    "sys.path.insert(0, str(Path.cwd().parent))\n",
    "\n",
    "# Data science libraries\n",
    "import numpy as np\n",
    "import pandas as pd\n",
    "import matplotlib.pyplot as plt\n",
    "import seaborn as sns\n",
    "import plotly.graph_objects as go\n",
    "import plotly.express as px\n",
    "\n",
    "# ML libraries\n",
    "from sklearn.metrics import classification_report, confusion_matrix\n",
    "\n",
    "# Optuna\n",
    "import optuna\n",
    "\n",
    "# Our framework\n",
    "from src.data.data_pipeline import DataPipeline\n",
    "from src.models.random_forest_optimizer import RandomForestOptimizer\n",
    "from src.models.xgboost_optimizer import XGBoostOptimizer\n",
    "from src.models.lightgbm_optimizer import LightGBMOptimizer\n",
    "from src.optimization.config import OptimizationConfig\n",
    "from src.optimization.study_manager import StudyManager\n",
    "from src.optimization.advanced_features import MultiObjectiveOptimizer\n",
    "from src.visualization.plots import OptimizationPlotter\n",
    "\n",
    "# Configuration\n",
    "warnings.filterwarnings('ignore')\n",
    "plt.style.use('seaborn-v0_8')\n",
    "sns.set_palette(\"husl\")\n",
    "\n",
    "# Random seed for reproducibility\n",
    "RANDOM_STATE = 42\n",
    "np.random.seed(RANDOM_STATE)\n",
    "\n",
    "print(\"✅ All imports successful!\")\n",
    "print(f\"📊 Working directory: {Path.cwd()}\")\n",
    "print(f\"🎲 Random state: {RANDOM_STATE}\")"
   ]
  },
  {
   "cell_type": "markdown",
   "metadata": {},
   "source": [
    "## 2. Data Pipeline\n",
    "\n",
    "Let's start by setting up our data pipeline and exploring the Adult Income dataset."
   ]
  },
  {
   "cell_type": "code",
   "execution_count": null,
   "metadata": {},
   "outputs": [],
   "source": [
    "# Initialize data pipeline\n",
    "print(\"🔄 Initializing data pipeline...\")\n",
    "data_pipeline = DataPipeline(\n",
    "    random_state=RANDOM_STATE,\n",
    "    test_size=0.2,\n",
    "    val_size=0.2\n",
    ")\n",
    "\n",
    "# Complete data preparation\n",
    "print(\"⚙️ Preparing data...\")\n",
    "summary = data_pipeline.prepare_data()\n",
    "\n",
    "print(f\"\\n✅ Data Preparation Summary:\")\n",
    "for key, value in summary.items():\n",
    "    print(f\"   • {key}: {value}\")\n",
    "\n",
    "# Get prepared data splits\n",
    "X_train, X_val, y_train, y_val = data_pipeline.get_train_val_data()\n",
    "X_test, y_test = data_pipeline.get_test_data()\n",
    "\n",
    "print(f\"\\n📊 Data splits:\")\n",
    "print(f\"   • Training: {X_train.shape[0]} samples\")\n",
    "print(f\"   • Validation: {X_val.shape[0]} samples\")\n",
    "print(f\"   • Test: {X_test.shape[0]} samples\")\n",
    "print(f\"   • Features: {X_train.shape[1]}\")"
   ]
  },
  {
   "cell_type": "markdown",
   "metadata": {},
   "source": [
    "## 3. Single Model Optimization\n",
    "\n",
    "Let's start with optimizing a Random Forest classifier."
   ]
  },
  {
   "cell_type": "code",
   "execution_count": null,
   "metadata": {},
   "outputs": [],
   "source": [
    "# Initialize Random Forest optimizer\n",
    "print(\"🌲 Initializing Random Forest optimizer...\")\n",
    "rf_optimizer = RandomForestOptimizer(\n",
    "    random_state=RANDOM_STATE,\n",
    "    cv_folds=5,\n",
    "    scoring_metric='accuracy',\n",
    "    verbose=True\n",
    ")\n",
    "\n",
    "# Run optimization\n",
    "print(\"🚀 Starting Random Forest optimization...\")\n",
    "start_time = time.time()\n",
    "\n",
    "rf_study = rf_optimizer.optimize(\n",
    "    X_train, X_val, y_train, y_val,\n",
    "    n_trials=50  # Reduced for demo\n",
    ")\n",
    "\n",
    "optimization_time = time.time() - start_time\n",
    "\n",
    "print(f\"\\n✅ Random Forest optimization completed!\")\n",
    "print(f\"⏱️ Time taken: {optimization_time:.2f} seconds\")\n",
    "print(f\"🎯 Best CV score: {rf_study.best_value:.4f}\")\n",
    "print(f\"⚙️ Best parameters: {rf_study.best_params}\")"
   ]
  },
  {
   "cell_type": "code",
   "execution_count": null,
   "metadata": {},
   "outputs": [],
   "source": [
    "# Evaluate on test set\n",
    "print(\"📊 Evaluating Random Forest on test set...\")\n",
    "rf_test_metrics = rf_optimizer.evaluate(X_test, y_test)\n",
    "\n",
    "print(f\"\\n🎯 Random Forest Test Results:\")\n",
    "for metric, value in rf_test_metrics.items():\n",
    "    print(f\"   • {metric}: {value:.4f}\")\n",
    "\n",
    "# Get feature importance\n",
    "rf_importance = rf_optimizer.analyze_feature_importance()\n",
    "print(f\"\\n🔍 Feature importance analysis completed\")\n",
    "print(f\"   • Mean importance: {rf_importance['mean_importance']:.4f}\")\n",
    "print(f\"   • Top 5 features: {rf_importance['top_features_indices'][:5]}\")"
   ]
  },
  {
   "cell_type": "markdown",
   "metadata": {},
   "source": [
    "## 4. Multi-Model Comparison\n",
    "\n",
    "Now let's optimize multiple models and compare their performance."
   ]
  },
  {
   "cell_type": "code",
   "execution_count": null,
   "metadata": {},
   "outputs": [],
   "source": [
    "# Initialize optimizers for all models\n",
    "print(\"🔧 Initializing all model optimizers...\")\n",
    "\n",
    "optimizers = {\n",
    "    'Random Forest': RandomForestOptimizer(\n",
    "        random_state=RANDOM_STATE,\n",
    "        cv_folds=5,\n",
    "        verbose=False\n",
    "    ),\n",
    "    'XGBoost': XGBoostOptimizer(\n",
    "        random_state=RANDOM_STATE,\n",
    "        cv_folds=5,\n",
    "        early_stopping_rounds=10,\n",
    "        verbose=False\n",
    "    ),\n",
    "    'LightGBM': LightGBMOptimizer(\n",
    "        random_state=RANDOM_STATE,\n",
    "        cv_folds=5,\n",
    "        early_stopping_rounds=10,\n",
    "        verbose=False\n",
    "    )\n",
    "}\n",
    "\n",
    "print(f\"✅ Initialized {len(optimizers)} optimizers\")"
   ]
  },
  {
   "cell_type": "code",
   "execution_count": null,
   "metadata": {},
   "outputs": [],
   "source": [
    "# Run optimization for all models\n",
    "results = {}\n",
    "n_trials = 30  # Reduced for demo\n",
    "\n",
    "for model_name, optimizer in optimizers.items():\n",
    "    print(f\"\\n🚀 Optimizing {model_name}...\")\n",
    "    start_time = time.time()\n",
    "    \n",
    "    study = optimizer.optimize(\n",
    "        X_train, X_val, y_train, y_val,\n",
    "        n_trials=n_trials\n",
    "    )\n",
    "    \n",
    "    optimization_time = time.time() - start_time\n",
    "    test_metrics = optimizer.evaluate(X_test, y_test)\n",
    "    \n",
    "    results[model_name] = {\n",
    "        'optimizer': optimizer,\n",
    "        'study': study,\n",
    "        'best_cv_score': study.best_value,\n",
    "        'best_params': study.best_params,\n",
    "        'test_metrics': test_metrics,\n",
    "        'optimization_time': optimization_time\n",
    "    }\n",
    "    \n",
    "    print(f\"   ✅ {model_name}: CV={study.best_value:.4f}, Test={test_metrics['accuracy']:.4f}\")\n",
    "\n",
    "print(\"\\n🎉 All model optimizations completed!\")"
   ]
  }
 ],
 "metadata": {
  "kernelspec": {
   "display_name": "Python 3",
   "language": "python",
   "name": "python3"
  },
  "language_info": {
   "codemirror_mode": {
    "name": "ipython",
    "version": 3
   },
   "file_extension": ".py",
   "name": "python",
   "nbconvert_exporter": "python",
   "pygments_lexer": "ipython3",
   "version": "3.8.0"
  }
 },
 "nbformat": 4,
 "nbformat_minor": 4
}
